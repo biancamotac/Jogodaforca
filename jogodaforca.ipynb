{
  "nbformat": 4,
  "nbformat_minor": 0,
  "metadata": {
    "colab": {
      "provenance": [],
      "authorship_tag": "ABX9TyNSLk3mRapPAQA0OVqflIiI",
      "include_colab_link": true
    },
    "kernelspec": {
      "name": "python3",
      "display_name": "Python 3"
    },
    "language_info": {
      "name": "python"
    }
  },
  "cells": [
    {
      "cell_type": "markdown",
      "metadata": {
        "id": "view-in-github",
        "colab_type": "text"
      },
      "source": [
        "<a href=\"https://colab.research.google.com/github/biancamotac/Jogodaforca/blob/main/jogodaforca.ipynb\" target=\"_parent\"><img src=\"https://colab.research.google.com/assets/colab-badge.svg\" alt=\"Open In Colab\"/></a>"
      ]
    },
    {
      "cell_type": "code",
      "execution_count": null,
      "metadata": {
        "colab": {
          "base_uri": "https://localhost:8080/"
        },
        "id": "aKs2OmocQ058",
        "outputId": "ca5bb263-a00d-44d5-d3ea-8ff00962be31"
      },
      "outputs": [
        {
          "output_type": "stream",
          "name": "stdout",
          "text": [
            "🎯 Bem-vindo ao Jogo da Forca!\n",
            "A palavra tem 10 letras.\n",
            "\n",
            "Palavra: _ _ _ _ _ _ _ _ _ _\n",
            "Vidas restantes: 6\n",
            "Letras tentadas: \n"
          ]
        }
      ],
      "source": [
        "import random\n",
        "\n",
        "palavras = [\"python\", \"dados\", \"analise\", \"programacao\", \"tabela\", \"dashboard\",\"engenharia\", \"computador\"]\n",
        "\n",
        "palavra_secreta = random.choice(palavras)\n",
        "\n",
        "palavra_descoberta = [\"_\"] * len(palavra_secreta)\n",
        "\n",
        "vidas = 6\n",
        "\n",
        "letras_tentadas = []\n",
        "\n",
        "print(\"🎯 Bem-vindo ao Jogo da Forca!\")\n",
        "print(f\"A palavra tem {len(palavra_secreta)} letras.\")\n",
        "\n",
        "while vidas > 0 and \"_\" in palavra_descoberta:\n",
        "    print(\"\\nPalavra:\", \" \".join(palavra_descoberta))\n",
        "    print(f\"Vidas restantes: {vidas}\")\n",
        "    print(f\"Letras tentadas: {', '.join(letras_tentadas)}\")\n",
        "\n",
        "    tentativa = input(\"Digite uma letra: \").lower()\n",
        "\n",
        "    if tentativa in letras_tentadas:\n",
        "        print(\"⚠️ Você já tentou essa letra.\")\n",
        "        continue\n",
        "\n",
        "    letras_tentadas.append(tentativa)\n",
        "\n",
        "    if tentativa in palavra_secreta:\n",
        "        print(\"✅ Boa! A letra está na palavra.\")\n",
        "        for i, letra in enumerate(palavra_secreta):\n",
        "            if letra == tentativa:\n",
        "                palavra_descoberta[i] = tentativa\n",
        "    else:\n",
        "        print(\"❌ Errou! Essa letra não está na palavra.\")\n",
        "        vidas -= 1\n",
        "\n",
        "if \"_\" not in palavra_descoberta:\n",
        "    print(\"\\n🎉 Parabéns! Você adivinhou a palavra:\", palavra_secreta)\n",
        "else:\n",
        "    print(\"\\n💀 Fim de jogo! A palavra era:\", palavra_secreta)\n"
      ]
    }
  ]
}